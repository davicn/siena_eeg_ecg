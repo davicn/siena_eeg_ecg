{
 "cells": [
  {
   "cell_type": "code",
   "execution_count": 1,
   "metadata": {},
   "outputs": [],
   "source": [
    "import os\n",
    "from os.path import join, dirname\n",
    "from dotenv import load_dotenv\n",
    "\n",
    "dotenv_path = join(dirname('__file__'), '.env')\n",
    "\n",
    "load_dotenv(dotenv_path)\n",
    "\n",
    "DATALAKE_PATH = os.environ.get(\"DATALAKE_PATH\")\n",
    "ROOT_PATH = os.environ.get(\"ROOT_PATH\")\n",
    "SOURCE_PATH = os.environ.get(\"SOURCE_PATH\")\n",
    "\n",
    "fs = 512\n"
   ]
  },
  {
   "cell_type": "code",
   "execution_count": 2,
   "metadata": {},
   "outputs": [],
   "source": [
    "import pandas as pd"
   ]
  },
  {
   "cell_type": "code",
   "execution_count": 3,
   "metadata": {},
   "outputs": [],
   "source": [
    "infos = pd.read_json(f\"{ROOT_PATH}/docs/infos.json\")\n",
    "\n",
    "itens = [item for sublist in infos[infos['ekg'] == 'yes']\n",
    "         ['collections'].to_list() for item in sublist]\n"
   ]
  },
  {
   "cell_type": "code",
   "execution_count": null,
   "metadata": {},
   "outputs": [],
   "source": []
  },
  {
   "cell_type": "code",
   "execution_count": 56,
   "metadata": {},
   "outputs": [
    {
     "name": "stdout",
     "output_type": "stream",
     "text": [
      "\u001b[?1h\u001b=\n",
      "                            < M A T L A B (R) >\n",
      "                  Copyright 1984-2021 The MathWorks, Inc.\n",
      "             R2021a Update 6 (9.10.0.1851785) 64-bit (glnxa64)\n",
      "                              January 6, 2022\n",
      "\n",
      " \n",
      "To get started, type doc.\n",
      "For product information, visit www.mathworks.com.\n",
      " \n",
      "Starting parallel pool (parpool) using the 'local' profile ...\n",
      "Connected to the parallel pool (number of workers: 6).\n",
      "\u001b[?1l\u001b>\u001b[?1h\u001b=\n",
      "                            < M A T L A B (R) >\n",
      "                  Copyright 1984-2021 The MathWorks, Inc.\n",
      "             R2021a Update 6 (9.10.0.1851785) 64-bit (glnxa64)\n",
      "                              January 6, 2022\n",
      "\n",
      " \n",
      "To get started, type doc.\n",
      "For product information, visit www.mathworks.com.\n",
      " \n",
      "Starting parallel pool (parpool) using the 'local' profile ...\n",
      "Connected to the parallel pool (number of workers: 6).\n",
      "\u0007Error using ECGsegmentationF (line 43)\n",
      "Array indices must be positive integers or logical values.\n",
      "\n",
      "Error in get_ecg_beats (line 14)\n",
      "    [B,P,QRS,T] = ECGsegmentationF(x, fs);\n",
      " \n",
      ">> \n",
      ">> \n",
      ">> \u001b[?1h\u001b=\n",
      "                            < M A T L A B (R) >\n",
      "                  Copyright 1984-2021 The MathWorks, Inc.\n",
      "             R2021a Update 6 (9.10.0.1851785) 64-bit (glnxa64)\n",
      "                              January 6, 2022\n",
      "\n",
      " \n",
      "To get started, type doc.\n",
      "For product information, visit www.mathworks.com.\n",
      " \n",
      "Starting parallel pool (parpool) using the 'local' profile ...\n",
      "Connected to the parallel pool (number of workers: 6).\n",
      "\u001b[?1l\u001b>\u001b[?1h\u001b=\n",
      "                            < M A T L A B (R) >\n",
      "                  Copyright 1984-2021 The MathWorks, Inc.\n",
      "             R2021a Update 6 (9.10.0.1851785) 64-bit (glnxa64)\n",
      "                              January 6, 2022\n",
      "\n",
      " \n",
      "To get started, type doc.\n",
      "For product information, visit www.mathworks.com.\n",
      " \n",
      "Starting parallel pool (parpool) using the 'local' profile ...\n",
      "Connected to the parallel pool (number of workers: 6).\n",
      "\u001b[?1l\u001b>\u001b[?1h\u001b=\n",
      "                            < M A T L A B (R) >\n",
      "                  Copyright 1984-2021 The MathWorks, Inc.\n",
      "             R2021a Update 6 (9.10.0.1851785) 64-bit (glnxa64)\n",
      "                              January 6, 2022\n",
      "\n",
      " \n",
      "To get started, type doc.\n",
      "For product information, visit www.mathworks.com.\n",
      " \n",
      "Starting parallel pool (parpool) using the 'local' profile ...\n",
      "\u001b[?1h\u001b=\n",
      "                            < M A T L A B (R) >\n",
      "                  Copyright 1984-2021 The MathWorks, Inc.\n",
      "             R2021a Update 6 (9.10.0.1851785) 64-bit (glnxa64)\n",
      "                              January 6, 2022\n",
      "\n",
      " \n",
      "To get started, type doc.\n",
      "For product information, visit www.mathworks.com.\n",
      " \n",
      "Starting parallel pool (parpool) using the 'local' profile ...\n"
     ]
    }
   ],
   "source": [
    "# Execução de pipeline\n",
    "\n",
    "for item in itens:\n",
    "    name = item['name'].replace('.edf','')\n",
    "\n",
    "    for key in ['ictal', 'normal', 'pos-ictal', 'pre-ictal', 'recuperacao']:\n",
    "        file = f\"{DATALAKE_PATH}/siena/raw/periods/ecg/{key}/{name}.parquet\"\n",
    "        cmd = f\"get_ecg_beats('{file}','{key}')\"\n",
    "        !matlab  -nodisplay -nosplash -nodesktop -r \"cd('../scripts/'); {cmd}; exit;\"\n",
    "\n",
    "\n"
   ]
  }
 ],
 "metadata": {
  "interpreter": {
   "hash": "676d897f427d94a86f2cc2ce6d393a432491b28b1655c15eb47ad7d90dd20eb2"
  },
  "kernelspec": {
   "display_name": "Python 3.8.13 ('siena_eeg_ecg')",
   "language": "python",
   "name": "python3"
  },
  "language_info": {
   "codemirror_mode": {
    "name": "ipython",
    "version": 3
   },
   "file_extension": ".py",
   "mimetype": "text/x-python",
   "name": "python",
   "nbconvert_exporter": "python",
   "pygments_lexer": "ipython3",
   "version": "3.8.13"
  },
  "orig_nbformat": 4
 },
 "nbformat": 4,
 "nbformat_minor": 2
}
