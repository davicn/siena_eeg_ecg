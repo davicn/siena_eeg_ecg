{
 "cells": [
  {
   "cell_type": "markdown",
   "metadata": {},
   "source": [
    "# Classificações Testes"
   ]
  },
  {
   "cell_type": "code",
   "execution_count": 1,
   "metadata": {},
   "outputs": [],
   "source": [
    "import os\n",
    "from os.path import join, dirname\n",
    "from dotenv import load_dotenv\n",
    "\n",
    "dotenv_path = join(dirname('__file__'), '.env')\n",
    "\n",
    "load_dotenv(dotenv_path)\n",
    "\n",
    "ROOT_PATH = os.environ.get(\"ROOT_PATH\")\n"
   ]
  },
  {
   "cell_type": "code",
   "execution_count": 3,
   "metadata": {},
   "outputs": [],
   "source": [
    "import pandas as pd\n",
    "\n",
    "df = pd.read_parquet(f\"{ROOT_PATH}/features/features.parquet\")\n"
   ]
  },
  {
   "cell_type": "code",
   "execution_count": 4,
   "metadata": {},
   "outputs": [
    {
     "data": {
      "text/plain": [
       "Index(['var', 'skew', 'kur', 'label', 'file'], dtype='object')"
      ]
     },
     "execution_count": 4,
     "metadata": {},
     "output_type": "execute_result"
    }
   ],
   "source": [
    "df.columns"
   ]
  },
  {
   "cell_type": "markdown",
   "metadata": {},
   "source": [
    "## Classificação\n"
   ]
  },
  {
   "cell_type": "code",
   "execution_count": 8,
   "metadata": {},
   "outputs": [],
   "source": [
    "from sklearn.svm import SVC\n",
    "from sklearn.model_selection import train_test_split\n",
    "from sklearn.model_selection import GridSearchCV\n",
    "from sklearn.metrics import classification_report\n",
    "\n",
    "\n",
    "def classifier(df):\n",
    "    x = df.loc[:,['var', 'skew', 'kur']]\n",
    "    y = df.loc[:, 'label']\n",
    "    \n",
    "    X_train, X_test, y_train, y_test = train_test_split(x, y, test_size=0.2, random_state=0)\n",
    "\n",
    "    # tuned_parameters = {\n",
    "    #     \"kernel\": [\"rbf\"], \n",
    "    #     \"gamma\": [1e-3, 1e-4], \n",
    "    #     \"C\": [1, 10, 100, 1000]\n",
    "    # }\n",
    "\n",
    "    # clf = GridSearchCV(SVC(), tuned_parameters, scoring='accuracy', n_jobs=-1)\n",
    "    # clf.fit(X_train, y_train)\n",
    "    # y_true, y_pred = y_test, clf.predict(X_test)\n",
    "\n",
    "    # report = classification_report(y_true, y_pred, output_dict= True)\n",
    "\n",
    "    # result = {\n",
    "    #     'params':clf.best_params_,\n",
    "    #     'report': report\n",
    "    # }\n",
    "\n",
    "\n",
    "    # return result    \n",
    "    # means = clf.cv_results_[\"mean_test_score\"]\n",
    "    # stds = clf.cv_results_[\"std_test_score\"]\n",
    "    # for mean, std, params in zip(means, stds, clf.cv_results_[\"params\"]):\n",
    "    #     print(\"%0.3f (+/-%0.03f) for %r\" % (mean, std * 2, params))\n",
    "    # print(clf.cv_results_.keys())\n",
    "    model = SVC(kernel='rbf', probability=True, C=10, gamma=0.00001)\n",
    "    # print(model.cv_results_.)\n",
    "\n",
    "    clf = model.fit(X_train, y_train)\n",
    "\n",
    "    pred_labels_tr = model.predict(X_train)\n",
    "    pred_labels_te = model.predict(X_test)\n",
    "\n",
    "    score_te, score_tr = model.score(X_test, y_test), model.score(X_train, y_train)\n",
    "\n",
    "    result = {\n",
    "        'features': x.columns,\n",
    "        'test':{'accuracy':score_te},\n",
    "        'train':{'accuracy':score_tr}\n",
    "        }\n",
    "    return result\n"
   ]
  },
  {
   "cell_type": "code",
   "execution_count": 9,
   "metadata": {},
   "outputs": [
    {
     "data": {
      "text/plain": [
       "{'features': Index(['var', 'skew', 'kur'], dtype='object'),\n",
       " 'test': {'accuracy': 0.9830985915492958},\n",
       " 'train': {'accuracy': 0.9897779344377864}}"
      ]
     },
     "execution_count": 9,
     "metadata": {},
     "output_type": "execute_result"
    }
   ],
   "source": [
    "classifier(df)"
   ]
  },
  {
   "cell_type": "code",
   "execution_count": 99,
   "metadata": {},
   "outputs": [
    {
     "ename": "IndexError",
     "evalue": "too many indices for array: array is 1-dimensional, but 2 were indexed",
     "output_type": "error",
     "traceback": [
      "\u001b[0;31m---------------------------------------------------------------------------\u001b[0m",
      "\u001b[0;31mIndexError\u001b[0m                                Traceback (most recent call last)",
      "\u001b[1;32m/mnt/c/Users/davi.nascimento/Documents/siena_eeg_ecg/notebooks/05_tests_classifiers.ipynb Cell 6'\u001b[0m in \u001b[0;36m<cell line: 7>\u001b[0;34m()\u001b[0m\n\u001b[1;32m      <a href='vscode-notebook-cell://wsl%2Bubuntu-20.04/mnt/c/Users/davi.nascimento/Documents/siena_eeg_ecg/notebooks/05_tests_classifiers.ipynb#ch0000004vscode-remote?line=2'>3</a>\u001b[0m \u001b[39m# for file in files:\u001b[39;00m\n\u001b[1;32m      <a href='vscode-notebook-cell://wsl%2Bubuntu-20.04/mnt/c/Users/davi.nascimento/Documents/siena_eeg_ecg/notebooks/05_tests_classifiers.ipynb#ch0000004vscode-remote?line=3'>4</a>\u001b[0m \u001b[39m# df = pd.read_parquet(f\"{ROOT_PATH}{PROCESSED_DATA}ecg_features_select/{files[3]}\")\u001b[39;00m\n\u001b[1;32m      <a href='vscode-notebook-cell://wsl%2Bubuntu-20.04/mnt/c/Users/davi.nascimento/Documents/siena_eeg_ecg/notebooks/05_tests_classifiers.ipynb#ch0000004vscode-remote?line=4'>5</a>\u001b[0m df \u001b[39m=\u001b[39m pd\u001b[39m.\u001b[39mread_parquet(\u001b[39m'\u001b[39m\u001b[39m/mnt/c/Users/davi.nascimento/Documents/siena_eeg_ecg/data/processed/ecg_features_select/PN00-4.parquet\u001b[39m\u001b[39m'\u001b[39m)\n\u001b[0;32m----> <a href='vscode-notebook-cell://wsl%2Bubuntu-20.04/mnt/c/Users/davi.nascimento/Documents/siena_eeg_ecg/notebooks/05_tests_classifiers.ipynb#ch0000004vscode-remote?line=6'>7</a>\u001b[0m \u001b[39mfor\u001b[39;00m col \u001b[39min\u001b[39;00m df\u001b[39m.\u001b[39;49mcolumns[:,:\u001b[39m-\u001b[39;49m\u001b[39m1\u001b[39;49m]:\n\u001b[1;32m      <a href='vscode-notebook-cell://wsl%2Bubuntu-20.04/mnt/c/Users/davi.nascimento/Documents/siena_eeg_ecg/notebooks/05_tests_classifiers.ipynb#ch0000004vscode-remote?line=7'>8</a>\u001b[0m     q75,q25 \u001b[39m=\u001b[39m np\u001b[39m.\u001b[39mpercentile(df\u001b[39m.\u001b[39mloc[:,col],[\u001b[39m75\u001b[39m,\u001b[39m25\u001b[39m])\n\u001b[1;32m      <a href='vscode-notebook-cell://wsl%2Bubuntu-20.04/mnt/c/Users/davi.nascimento/Documents/siena_eeg_ecg/notebooks/05_tests_classifiers.ipynb#ch0000004vscode-remote?line=8'>9</a>\u001b[0m     intr_qr \u001b[39m=\u001b[39m q75\u001b[39m-\u001b[39mq25\n",
      "File \u001b[0;32m~/miniconda3/envs/siena_eeg_ecg/lib/python3.9/site-packages/pandas/core/indexes/base.py:5055\u001b[0m, in \u001b[0;36mIndex.__getitem__\u001b[0;34m(self, key)\u001b[0m\n\u001b[1;32m   <a href='file:///home/davi/miniconda3/envs/siena_eeg_ecg/lib/python3.9/site-packages/pandas/core/indexes/base.py?line=5047'>5048</a>\u001b[0m \u001b[39mif\u001b[39;00m com\u001b[39m.\u001b[39mis_bool_indexer(key):\n\u001b[1;32m   <a href='file:///home/davi/miniconda3/envs/siena_eeg_ecg/lib/python3.9/site-packages/pandas/core/indexes/base.py?line=5048'>5049</a>\u001b[0m     \u001b[39m# if we have list[bools, length=1e5] then doing this check+convert\u001b[39;00m\n\u001b[1;32m   <a href='file:///home/davi/miniconda3/envs/siena_eeg_ecg/lib/python3.9/site-packages/pandas/core/indexes/base.py?line=5049'>5050</a>\u001b[0m     \u001b[39m#  takes 166 µs + 2.1 ms and cuts the ndarray.__getitem__\u001b[39;00m\n\u001b[1;32m   <a href='file:///home/davi/miniconda3/envs/siena_eeg_ecg/lib/python3.9/site-packages/pandas/core/indexes/base.py?line=5050'>5051</a>\u001b[0m     \u001b[39m#  time below from 3.8 ms to 496 µs\u001b[39;00m\n\u001b[1;32m   <a href='file:///home/davi/miniconda3/envs/siena_eeg_ecg/lib/python3.9/site-packages/pandas/core/indexes/base.py?line=5051'>5052</a>\u001b[0m     \u001b[39m# if we already have ndarray[bool], the overhead is 1.4 µs or .25%\u001b[39;00m\n\u001b[1;32m   <a href='file:///home/davi/miniconda3/envs/siena_eeg_ecg/lib/python3.9/site-packages/pandas/core/indexes/base.py?line=5052'>5053</a>\u001b[0m     key \u001b[39m=\u001b[39m np\u001b[39m.\u001b[39masarray(key, dtype\u001b[39m=\u001b[39m\u001b[39mbool\u001b[39m)\n\u001b[0;32m-> <a href='file:///home/davi/miniconda3/envs/siena_eeg_ecg/lib/python3.9/site-packages/pandas/core/indexes/base.py?line=5054'>5055</a>\u001b[0m result \u001b[39m=\u001b[39m getitem(key)\n\u001b[1;32m   <a href='file:///home/davi/miniconda3/envs/siena_eeg_ecg/lib/python3.9/site-packages/pandas/core/indexes/base.py?line=5055'>5056</a>\u001b[0m \u001b[39m# Because we ruled out integer above, we always get an arraylike here\u001b[39;00m\n\u001b[1;32m   <a href='file:///home/davi/miniconda3/envs/siena_eeg_ecg/lib/python3.9/site-packages/pandas/core/indexes/base.py?line=5056'>5057</a>\u001b[0m \u001b[39mif\u001b[39;00m result\u001b[39m.\u001b[39mndim \u001b[39m>\u001b[39m \u001b[39m1\u001b[39m:\n",
      "\u001b[0;31mIndexError\u001b[0m: too many indices for array: array is 1-dimensional, but 2 were indexed"
     ]
    }
   ],
   "source": [
    "from pprint import pprint\n",
    "import seaborn as sns\n",
    "# for file in files:\n",
    "# df = pd.read_parquet(f\"{ROOT_PATH}{PROCESSED_DATA}ecg_features_select/{files[3]}\")\n",
    "df = pd.read_parquet('/mnt/c/Users/davi.nascimento/Documents/siena_eeg_ecg/data/processed/ecg_features_select/PN00-4.parquet')\n",
    "\n",
    "for col in df.columns[:,:-1]:\n",
    "    q75,q25 = np.percentile(df.loc[:,col],[75,25])\n",
    "    intr_qr = q75-q25\n",
    "    print(intr_qr)\n",
    "# pprint(classifier(df))\n",
    "\n",
    "# sns.boxplot(data=df, y='label', x= 'var_log_entropy', hue='label')\n"
   ]
  },
  {
   "cell_type": "code",
   "execution_count": 96,
   "metadata": {},
   "outputs": [
    {
     "data": {
      "text/plain": [
       "<AxesSubplot:xlabel='energy_log_entropy', ylabel='label'>"
      ]
     },
     "execution_count": 96,
     "metadata": {},
     "output_type": "execute_result"
    },
    {
     "data": {
      "image/png": "[encoded data removed]",
      "text/plain": [
       "<Figure size 432x288 with 1 Axes>"
      ]
     },
     "metadata": {
      "needs_background": "light"
     },
     "output_type": "display_data"
    }
   ],
   "source": [
    "sns.boxplot(data=df, y='label', x= 'energy_log_entropy', hue='label')"
   ]
  }
 ],
 "metadata": {
  "interpreter": {
   "hash": "676d897f427d94a86f2cc2ce6d393a432491b28b1655c15eb47ad7d90dd20eb2"
  },
  "kernelspec": {
   "display_name": "Python 3.9.5 ('siena_eeg_ecg')",
   "language": "python",
   "name": "python3"
  },
  "language_info": {
   "codemirror_mode": {
    "name": "ipython",
    "version": 3
   },
   "file_extension": ".py",
   "mimetype": "text/x-python",
   "name": "python",
   "nbconvert_exporter": "python",
   "pygments_lexer": "ipython3",
   "version": "3.8.13"
  },
  "orig_nbformat": 4
 },
 "nbformat": 4,
 "nbformat_minor": 2
}
