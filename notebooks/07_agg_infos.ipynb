{
 "cells": [
  {
   "cell_type": "markdown",
   "metadata": {},
   "source": [
    "# Agregandos Informações de Pacientes"
   ]
  },
  {
   "cell_type": "code",
   "execution_count": 47,
   "metadata": {},
   "outputs": [],
   "source": [
    "import pandas as pd\n",
    "from datetime import datetime\n",
    "import json"
   ]
  },
  {
   "cell_type": "code",
   "execution_count": 29,
   "metadata": {},
   "outputs": [],
   "source": [
    "# Variáveis de ambiente\n",
    "import os\n",
    "from os.path import join, dirname\n",
    "from dotenv import load_dotenv\n",
    "\n",
    "dotenv_path = join(dirname('__file__'), '.env')\n",
    "\n",
    "load_dotenv(dotenv_path)\n",
    "\n",
    "ROOT_PATH = os.environ.get(\"ROOT_PATH\")\n",
    "SOURCE_PATH = os.environ.get(\"SOURCE_PATH\")\n",
    "DATALAKE_PATH = os.environ.get(\"DATALAKE_PATH\")"
   ]
  },
  {
   "cell_type": "markdown",
   "metadata": {},
   "source": [
    "## 1° Pipeline"
   ]
  },
  {
   "cell_type": "code",
   "execution_count": 30,
   "metadata": {},
   "outputs": [],
   "source": [
    "# Padrões de strings\n",
    "def get_patterns(file):\n",
    "    patterns = [\n",
    "        'File name:', \n",
    "        'Registration start time:',\n",
    "        'Registration end time:',\n",
    "        'Seizure start time:',\n",
    "        'Seizure end time:'\n",
    "    ]\n",
    "\n",
    "    keys = ['name','registration_start','registration_end','seizure_start','seizure_end']\n",
    "\n",
    "    data = []\n",
    "\n",
    "    for line in file:\n",
    "        for idx in range(len(keys)):\n",
    "            if patterns[idx] in line:\n",
    "                d = {}\n",
    "                d[keys[idx]]= line.replace(patterns[idx],'').strip()\n",
    "                data.append(d)\n",
    "\n",
    "    return data\n",
    "\n",
    "\n",
    "# Incorporando datas\n",
    "def set_intervals(data):\n",
    "    intervals = [cont for cont in range(len(data)) if 'name' in data[cont].keys()]\n",
    "    \n",
    "    intervals.append(None)\n",
    "\n",
    "    data_ = []\n",
    "    \n",
    "    for cont in range(len(intervals)-1):\n",
    "        data_.append(data[intervals[cont]:intervals[cont+1]])\n",
    "\n",
    "    return data_\n",
    "\n",
    "\n",
    "\n",
    "\n",
    "def dict_update(data):\n",
    "    d = {}\n",
    "    for i in data:\n",
    "        d.update(i)\n",
    "    return d\n",
    "\n",
    "\n",
    "def pipeline(file):\n",
    "    data = get_patterns(file)\n",
    "    result = set_intervals(data)\n",
    "    \n",
    "    return [dict_update(data) for data in result]"
   ]
  },
  {
   "cell_type": "markdown",
   "metadata": {},
   "source": [
    "## 2° Pipeline"
   ]
  },
  {
   "cell_type": "code",
   "execution_count": 39,
   "metadata": {},
   "outputs": [],
   "source": [
    "def split_time(label, data):\n",
    "    return [int(x) for x in data[label].split('.')]\n",
    "\n",
    "def set_hour(label, data):\n",
    "    h, m, s = split_time(label, data)\n",
    "    \n",
    "    date = datetime.now()\n",
    "\n",
    "    return date.replace(hour=h,minute=m,second=s,microsecond=0)\n",
    "\n",
    "\n",
    "def pipeline2(d:dict)->dict:\n",
    "    registration_start = set_hour('registration_start', d)\n",
    "    registration_end = set_hour('registration_end', d)\n",
    "    seizure_start = set_hour('seizure_start', d)\n",
    "    seizure_end = set_hour('seizure_end', d)\n",
    "    \n",
    "    total = registration_end - registration_start\n",
    "    seizure_end_sec = registration_end - seizure_start \n",
    "    seizure_start_sec = registration_end - seizure_end\n",
    "\n",
    "    d['total'] = int(total.total_seconds())\n",
    "    d['seizure_start_sec'] = int(seizure_start_sec.total_seconds())\n",
    "    d['seizure_end_sec'] = int(seizure_end_sec.total_seconds())\n",
    "\n",
    "    return d"
   ]
  },
  {
   "cell_type": "code",
   "execution_count": 58,
   "metadata": {},
   "outputs": [],
   "source": [
    "def format_source_types(file):\n",
    "    file['age_years'] = int(file['age_years'])\n",
    "    file['eeg_channel'] = int(file['eeg_channel']) \n",
    "    file['number_seizures'] = int(file['number_seizures']) \n",
    "    file['rec_time_minutes'] = int(file['rec_time_minutes']) \n",
    "\n",
    "    return file\n"
   ]
  },
  {
   "cell_type": "markdown",
   "metadata": {},
   "source": [
    "## Executando"
   ]
  },
  {
   "cell_type": "code",
   "execution_count": 32,
   "metadata": {},
   "outputs": [],
   "source": [
    "sb_infos = pd.read_csv(f\"{ROOT_PATH}/docs/subject_info.csv\")\n"
   ]
  },
  {
   "cell_type": "code",
   "execution_count": 33,
   "metadata": {},
   "outputs": [],
   "source": [
    "# refatorando colunas\n",
    "sb_infos.columns = [col.replace(' ','') for col in  sb_infos.columns] "
   ]
  },
  {
   "cell_type": "code",
   "execution_count": 59,
   "metadata": {},
   "outputs": [],
   "source": [
    "data = []\n",
    "\n",
    "for idx in range(len(sb_infos)):\n",
    "    patient = dict(sb_infos.iloc[idx])\n",
    "\n",
    "    patient = format_source_types(patient)\n",
    "\n",
    "    try:\n",
    "    \n",
    "        file = f\"{SOURCE_PATH}/{patient['patient_id']}/Seizures-list-{patient['patient_id']}.txt\"\n",
    "\n",
    "        f = [i for i in open(file, \"r\")]\n",
    "\n",
    "\n",
    "        data1 = pipeline(f)\n",
    "\n",
    "        data2 = [pipeline2(d) for d in data1]\n",
    "\n",
    "        patient['collections'] = data2\n",
    "\n",
    "        data.append(patient)\n",
    "        \n",
    "    except KeyError:\n",
    "        continue"
   ]
  },
  {
   "cell_type": "code",
   "execution_count": 60,
   "metadata": {},
   "outputs": [],
   "source": [
    "with open(f\"{ROOT_PATH}/docs/infos.json\", \"w\") as outfile:\n",
    "    json.dump(data, outfile)"
   ]
  }
 ],
 "metadata": {
  "interpreter": {
   "hash": "676d897f427d94a86f2cc2ce6d393a432491b28b1655c15eb47ad7d90dd20eb2"
  },
  "kernelspec": {
   "display_name": "Python 3.8.13 ('siena_eeg_ecg')",
   "language": "python",
   "name": "python3"
  },
  "language_info": {
   "codemirror_mode": {
    "name": "ipython",
    "version": 3
   },
   "file_extension": ".py",
   "mimetype": "text/x-python",
   "name": "python",
   "nbconvert_exporter": "python",
   "pygments_lexer": "ipython3",
   "version": "3.8.13"
  },
  "orig_nbformat": 4
 },
 "nbformat": 4,
 "nbformat_minor": 2
}
