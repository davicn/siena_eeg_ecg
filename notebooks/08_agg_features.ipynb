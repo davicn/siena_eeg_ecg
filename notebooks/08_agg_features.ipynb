{
 "cells": [
  {
   "cell_type": "markdown",
   "metadata": {},
   "source": [
    "# Agregando festures"
   ]
  },
  {
   "cell_type": "code",
   "execution_count": 1,
   "metadata": {},
   "outputs": [],
   "source": [
    "import os\n",
    "from os.path import join, dirname\n",
    "from dotenv import load_dotenv\n",
    "\n",
    "dotenv_path = join(dirname('__file__'), '.env')\n",
    "\n",
    "load_dotenv(dotenv_path)\n",
    "\n",
    "ROOT_PATH = os.environ.get(\"ROOT_PATH\")\n",
    "DATALAKE_PATH = os.environ.get(\"DATALAKE_PATH\")\n"
   ]
  },
  {
   "cell_type": "code",
   "execution_count": 6,
   "metadata": {},
   "outputs": [],
   "source": [
    "import pandas as pd\n",
    "import numpy as np\n",
    "from scipy.io import loadmat\n",
    "import matplotlib.pyplot as plt\n",
    "from matplotlib.gridspec import GridSpec\n",
    "from glob import glob\n"
   ]
  },
  {
   "cell_type": "code",
   "execution_count": 10,
   "metadata": {},
   "outputs": [],
   "source": [
    "files = glob(f\"{DATALAKE_PATH}/siena/processed/features/*.mat\")\n"
   ]
  },
  {
   "cell_type": "code",
   "execution_count": 46,
   "metadata": {},
   "outputs": [],
   "source": [
    "def pipeline(file):\n",
    "\n",
    "    d = loadmat(file)\n",
    "    labels = ['ictal', 'pre', 'pos', 'normal', 'rep']\n",
    "    dfs = []\n",
    "\n",
    "    for label in labels:\n",
    "        use_keys = {item for item in d.keys() if label == item.split('_')[1]}\n",
    "        extracted_dict = {key: value for key,\n",
    "                          value in d.items() if key in use_keys}\n",
    "\n",
    "        for i in extracted_dict.keys():\n",
    "            extracted_dict[i] = extracted_dict[i][0]\n",
    "\n",
    "        new_df = pd.DataFrame(extracted_dict)\n",
    "\n",
    "        new_df.columns = ['var', 'skew', 'kur']\n",
    "\n",
    "        new_df['label'] = np.repeat(label, len(new_df))\n",
    "\n",
    "        dfs.append(new_df)\n",
    "\n",
    "    return pd.concat(dfs)\n"
   ]
  },
  {
   "cell_type": "code",
   "execution_count": 47,
   "metadata": {},
   "outputs": [],
   "source": [
    "D = []\n",
    "\n",
    "for file in files:\n",
    "    D.append(pipeline(file))"
   ]
  },
  {
   "cell_type": "code",
   "execution_count": 50,
   "metadata": {},
   "outputs": [],
   "source": [
    "df = pd.concat(D)"
   ]
  },
  {
   "cell_type": "code",
   "execution_count": 51,
   "metadata": {},
   "outputs": [],
   "source": [
    "df.to_parquet(f\"{ROOT_PATH}/features/features.parquet\")"
   ]
  }
 ],
 "metadata": {
  "interpreter": {
   "hash": "676d897f427d94a86f2cc2ce6d393a432491b28b1655c15eb47ad7d90dd20eb2"
  },
  "kernelspec": {
   "display_name": "Python 3.8.13 ('siena_eeg_ecg')",
   "language": "python",
   "name": "python3"
  },
  "language_info": {
   "codemirror_mode": {
    "name": "ipython",
    "version": 3
   },
   "file_extension": ".py",
   "mimetype": "text/x-python",
   "name": "python",
   "nbconvert_exporter": "python",
   "pygments_lexer": "ipython3",
   "version": "3.8.13"
  },
  "orig_nbformat": 4
 },
 "nbformat": 4,
 "nbformat_minor": 2
}
