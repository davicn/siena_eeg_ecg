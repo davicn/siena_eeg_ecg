{
 "cells": [
  {
   "cell_type": "markdown",
   "metadata": {},
   "source": [
    "# Convertendo EDF para Parquet"
   ]
  },
  {
   "cell_type": "code",
   "execution_count": 1,
   "metadata": {},
   "outputs": [],
   "source": [
    "import mne \n",
    "import pandas as pd\n",
    "import numpy as np"
   ]
  },
  {
   "cell_type": "code",
   "execution_count": 2,
   "metadata": {},
   "outputs": [],
   "source": [
    "# Variaveis de ambiente\n",
    "import os\n",
    "from os.path import join, dirname\n",
    "from dotenv import load_dotenv\n",
    "\n",
    "dotenv_path = join(dirname('__file__'), '.env')\n",
    "\n",
    "load_dotenv(dotenv_path)\n",
    "\n",
    "RAW_DATA = os.environ.get(\"RAW_DATA\")\n",
    "ROOT_PATH = os.environ.get(\"ROOT_PATH\")"
   ]
  },
  {
   "cell_type": "code",
   "execution_count": 3,
   "metadata": {},
   "outputs": [],
   "source": [
    "files = pd.read_csv(f\"{ROOT_PATH}{RAW_DATA}siena/database/RECORDS\", header=None)[0].to_list()"
   ]
  },
  {
   "cell_type": "code",
   "execution_count": 4,
   "metadata": {},
   "outputs": [
    {
     "data": {
      "text/plain": [
       "array(['PN00', 'PN01', 'PN03', 'PN05', 'PN06', 'PN07', 'PN09', 'PN10',\n",
       "       'PN11', 'PN12', 'PN13', 'PN14', 'PN16', 'PN17'], dtype='<U4')"
      ]
     },
     "execution_count": 4,
     "metadata": {},
     "output_type": "execute_result"
    }
   ],
   "source": [
    "pacientes = np.unique([file.split('/')[0] for file in files])\n",
    "pacientes"
   ]
  },
  {
   "cell_type": "code",
   "execution_count": 20,
   "metadata": {},
   "outputs": [
    {
     "data": {
      "text/plain": [
       "['PN10/PN10-10.edf',\n",
       " 'PN10/PN10-1.edf',\n",
       " 'PN10/PN10-2.edf',\n",
       " 'PN10/PN10-3.edf',\n",
       " 'PN10/PN10-4.5.6.edf',\n",
       " 'PN10/PN10-7.8.9.edf']"
      ]
     },
     "execution_count": 20,
     "metadata": {},
     "output_type": "execute_result"
    }
   ],
   "source": [
    "paciente = pacientes[7]\n",
    "\n",
    "used = [file for file in files if paciente in file]\n",
    "\n",
    "used"
   ]
  },
  {
   "cell_type": "code",
   "execution_count": 21,
   "metadata": {},
   "outputs": [],
   "source": [
    "def save_eeg(df, name):\n",
    "    ch_eeg = [col for col in df.columns if 'EEG' in col]\n",
    "    \n",
    "    out = f\"{ROOT_PATH}{RAW_DATA}EEG/{name}\"\n",
    "    \n",
    "    df.loc[:,ch_eeg+['window']].to_parquet(out)\n",
    "\n",
    "\n",
    "def save_ekg(df, name):\n",
    "    ch_ekg = [col for col in df.columns if 'EKG' in col]\n",
    "    \n",
    "    out = f\"{ROOT_PATH}{RAW_DATA}EKG/{name}\"\n",
    "    \n",
    "    df.loc[:,ch_ekg+['window']].to_parquet(out)"
   ]
  },
  {
   "cell_type": "code",
   "execution_count": 22,
   "metadata": {},
   "outputs": [],
   "source": [
    "def pipeline(file):\n",
    "    raw = mne.io.read_raw_edf(f\"{ROOT_PATH}{RAW_DATA}siena/database/{file}\")\n",
    "    \n",
    "    df = raw.to_data_frame()\n",
    "    \n",
    "    idx = np.arange(df.shape[0])\n",
    "    \n",
    "    df['id'] = idx\n",
    "\n",
    "    infos = dict(raw.info)\n",
    "\n",
    "    fs = int(infos['sfreq'])\n",
    "\n",
    "    win = []\n",
    "    \n",
    "    for i in range(df.shape[0]//fs):\n",
    "        win = win + list(np.repeat(i, fs))\n",
    "        \n",
    "    df['window'] = win\n",
    "\n",
    "    cols = [col.replace(' ','_') for col in df.columns]\n",
    "    \n",
    "    df.columns = cols\n",
    "\n",
    "    name = file.split('/')[-1].replace('edf','parquet')\n",
    "\n",
    "    save_eeg(df, name)\n",
    "\n",
    "    save_ekg(df, name)\n",
    "    "
   ]
  },
  {
   "cell_type": "code",
   "execution_count": 23,
   "metadata": {},
   "outputs": [
    {
     "name": "stdout",
     "output_type": "stream",
     "text": [
      "Extracting EDF parameters from /mnt/c/Users/davi.nascimento/Documents/siena_eeg_ecg/data/raw/siena/database/PN10/PN10-10.edf...\n",
      "EDF file detected\n",
      "Setting channel info structure...\n",
      "Creating raw.info structure...\n",
      "Extracting EDF parameters from /mnt/c/Users/davi.nascimento/Documents/siena_eeg_ecg/data/raw/siena/database/PN10/PN10-1.edf...\n",
      "EDF file detected\n",
      "Setting channel info structure...\n",
      "Creating raw.info structure...\n",
      "Extracting EDF parameters from /mnt/c/Users/davi.nascimento/Documents/siena_eeg_ecg/data/raw/siena/database/PN10/PN10-2.edf...\n",
      "EDF file detected\n",
      "Setting channel info structure...\n",
      "Creating raw.info structure...\n",
      "Extracting EDF parameters from /mnt/c/Users/davi.nascimento/Documents/siena_eeg_ecg/data/raw/siena/database/PN10/PN10-3.edf...\n",
      "EDF file detected\n",
      "Setting channel info structure...\n",
      "Creating raw.info structure...\n",
      "Extracting EDF parameters from /mnt/c/Users/davi.nascimento/Documents/siena_eeg_ecg/data/raw/siena/database/PN10/PN10-4.5.6.edf...\n",
      "EDF file detected\n",
      "Setting channel info structure...\n",
      "Creating raw.info structure...\n"
     ]
    }
   ],
   "source": [
    "\n",
    "for file in used:\n",
    "    pipeline(file)"
   ]
  },
  {
   "cell_type": "code",
   "execution_count": null,
   "metadata": {},
   "outputs": [],
   "source": []
  }
 ],
 "metadata": {
  "interpreter": {
   "hash": "676d897f427d94a86f2cc2ce6d393a432491b28b1655c15eb47ad7d90dd20eb2"
  },
  "kernelspec": {
   "display_name": "Python 3.9.5 ('siena_eeg_ecg')",
   "language": "python",
   "name": "python3"
  },
  "language_info": {
   "codemirror_mode": {
    "name": "ipython",
    "version": 3
   },
   "file_extension": ".py",
   "mimetype": "text/x-python",
   "name": "python",
   "nbconvert_exporter": "python",
   "pygments_lexer": "ipython3",
   "version": "3.9.5"
  },
  "orig_nbformat": 4
 },
 "nbformat": 4,
 "nbformat_minor": 2
}
