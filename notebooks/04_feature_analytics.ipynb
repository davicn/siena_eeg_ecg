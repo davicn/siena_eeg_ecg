{
 "cells": [
  {
   "cell_type": "markdown",
   "metadata": {},
   "source": [
    "# Exploração de carcterísticas"
   ]
  },
  {
   "cell_type": "code",
   "execution_count": 23,
   "metadata": {},
   "outputs": [],
   "source": [
    "import os\n",
    "from os.path import join, dirname\n",
    "from dotenv import load_dotenv\n",
    "\n",
    "dotenv_path = join(dirname('__file__'), '.env')\n",
    "\n",
    "load_dotenv(dotenv_path)\n",
    "\n",
    "ROOT_PATH = os.environ.get(\"ROOT_PATH\")\n"
   ]
  },
  {
   "cell_type": "code",
   "execution_count": 24,
   "metadata": {},
   "outputs": [],
   "source": [
    "import pandas as pd\n",
    "import matplotlib.pyplot as plt\n",
    "import seaborn as sns\n",
    "import numpy as np\n",
    "from scipy.io import loadmat\n"
   ]
  },
  {
   "cell_type": "code",
   "execution_count": 29,
   "metadata": {},
   "outputs": [],
   "source": [
    "df = pd.read_parquet(f\"{ROOT_PATH}/features/features.parquet\")\n"
   ]
  },
  {
   "cell_type": "code",
   "execution_count": 31,
   "metadata": {},
   "outputs": [],
   "source": [
    "df = df.astype({\n",
    "    'var': float,\n",
    "    'skew': float,\n",
    "    'kur': float,\n",
    "    'label': str\n",
    "})\n"
   ]
  },
  {
   "cell_type": "code",
   "execution_count": 37,
   "metadata": {},
   "outputs": [
    {
     "data": {
      "text/plain": [
       "array(['PN00-2', 'PN00-3', 'PN00-4', 'PN05-2', 'PN05-3', 'PN06-3',\n",
       "       'PN09-1', 'PN09-2', 'PN09-3', 'PN10-2', 'PN13-1', 'PN13-2',\n",
       "       'PN13-3'], dtype=object)"
      ]
     },
     "execution_count": 37,
     "metadata": {},
     "output_type": "execute_result"
    }
   ],
   "source": [
    "df.file.unique()"
   ]
  },
  {
   "cell_type": "code",
   "execution_count": 34,
   "metadata": {},
   "outputs": [
    {
     "data": {
      "text/html": [
       "<div>\n",
       "<style scoped>\n",
       "    .dataframe tbody tr th:only-of-type {\n",
       "        vertical-align: middle;\n",
       "    }\n",
       "\n",
       "    .dataframe tbody tr th {\n",
       "        vertical-align: top;\n",
       "    }\n",
       "\n",
       "    .dataframe thead th {\n",
       "        text-align: right;\n",
       "    }\n",
       "</style>\n",
       "<table border=\"1\" class=\"dataframe\">\n",
       "  <thead>\n",
       "    <tr style=\"text-align: right;\">\n",
       "      <th></th>\n",
       "      <th>var</th>\n",
       "      <th>skew</th>\n",
       "      <th>kur</th>\n",
       "      <th>label</th>\n",
       "      <th>file</th>\n",
       "    </tr>\n",
       "  </thead>\n",
       "  <tbody>\n",
       "    <tr>\n",
       "      <th>0</th>\n",
       "      <td>-106345.345017</td>\n",
       "      <td>-106344.179629</td>\n",
       "      <td>-106340.757870</td>\n",
       "      <td>ictal</td>\n",
       "      <td>PN13-3</td>\n",
       "    </tr>\n",
       "    <tr>\n",
       "      <th>1</th>\n",
       "      <td>-106345.340449</td>\n",
       "      <td>-106344.189882</td>\n",
       "      <td>-106340.852668</td>\n",
       "      <td>ictal</td>\n",
       "      <td>PN13-3</td>\n",
       "    </tr>\n",
       "    <tr>\n",
       "      <th>2</th>\n",
       "      <td>-106345.337254</td>\n",
       "      <td>-106344.199821</td>\n",
       "      <td>-106340.855523</td>\n",
       "      <td>ictal</td>\n",
       "      <td>PN13-3</td>\n",
       "    </tr>\n",
       "    <tr>\n",
       "      <th>3</th>\n",
       "      <td>-106345.336864</td>\n",
       "      <td>-106344.208118</td>\n",
       "      <td>-106340.898636</td>\n",
       "      <td>ictal</td>\n",
       "      <td>PN13-3</td>\n",
       "    </tr>\n",
       "    <tr>\n",
       "      <th>4</th>\n",
       "      <td>-106345.343481</td>\n",
       "      <td>-106344.225997</td>\n",
       "      <td>-106340.892453</td>\n",
       "      <td>ictal</td>\n",
       "      <td>PN13-3</td>\n",
       "    </tr>\n",
       "    <tr>\n",
       "      <th>...</th>\n",
       "      <td>...</td>\n",
       "      <td>...</td>\n",
       "      <td>...</td>\n",
       "      <td>...</td>\n",
       "      <td>...</td>\n",
       "    </tr>\n",
       "    <tr>\n",
       "      <th>80</th>\n",
       "      <td>-41400.662211</td>\n",
       "      <td>-41399.524561</td>\n",
       "      <td>-41396.334438</td>\n",
       "      <td>rep</td>\n",
       "      <td>PN13-3</td>\n",
       "    </tr>\n",
       "    <tr>\n",
       "      <th>81</th>\n",
       "      <td>-41400.660453</td>\n",
       "      <td>-41399.518774</td>\n",
       "      <td>-41396.201892</td>\n",
       "      <td>rep</td>\n",
       "      <td>PN13-3</td>\n",
       "    </tr>\n",
       "    <tr>\n",
       "      <th>82</th>\n",
       "      <td>-41400.661509</td>\n",
       "      <td>-41399.529917</td>\n",
       "      <td>-41396.313938</td>\n",
       "      <td>rep</td>\n",
       "      <td>PN13-3</td>\n",
       "    </tr>\n",
       "    <tr>\n",
       "      <th>83</th>\n",
       "      <td>-41400.659834</td>\n",
       "      <td>-41399.545186</td>\n",
       "      <td>-41396.292056</td>\n",
       "      <td>rep</td>\n",
       "      <td>PN13-3</td>\n",
       "    </tr>\n",
       "    <tr>\n",
       "      <th>84</th>\n",
       "      <td>-41400.639859</td>\n",
       "      <td>-41399.560513</td>\n",
       "      <td>-41396.299469</td>\n",
       "      <td>rep</td>\n",
       "      <td>PN13-3</td>\n",
       "    </tr>\n",
       "  </tbody>\n",
       "</table>\n",
       "<p>394 rows × 5 columns</p>\n",
       "</div>"
      ],
      "text/plain": [
       "              var           skew            kur  label    file\n",
       "0  -106345.345017 -106344.179629 -106340.757870  ictal  PN13-3\n",
       "1  -106345.340449 -106344.189882 -106340.852668  ictal  PN13-3\n",
       "2  -106345.337254 -106344.199821 -106340.855523  ictal  PN13-3\n",
       "3  -106345.336864 -106344.208118 -106340.898636  ictal  PN13-3\n",
       "4  -106345.343481 -106344.225997 -106340.892453  ictal  PN13-3\n",
       "..            ...            ...            ...    ...     ...\n",
       "80  -41400.662211  -41399.524561  -41396.334438    rep  PN13-3\n",
       "81  -41400.660453  -41399.518774  -41396.201892    rep  PN13-3\n",
       "82  -41400.661509  -41399.529917  -41396.313938    rep  PN13-3\n",
       "83  -41400.659834  -41399.545186  -41396.292056    rep  PN13-3\n",
       "84  -41400.639859  -41399.560513  -41396.299469    rep  PN13-3\n",
       "\n",
       "[394 rows x 5 columns]"
      ]
     },
     "execution_count": 34,
     "metadata": {},
     "output_type": "execute_result"
    }
   ],
   "source": [
    "df[df['file']=='PN13-3']"
   ]
  },
  {
   "cell_type": "code",
   "execution_count": 38,
   "metadata": {},
   "outputs": [
    {
     "data": {
      "text/plain": [
       "<AxesSubplot:xlabel='label', ylabel='var'>"
      ]
     },
     "execution_count": 38,
     "metadata": {},
     "output_type": "execute_result"
    },
    {
     "data": {
      "image/png": "[encoded data removed]",
      "text/plain": [
       "<Figure size 432x288 with 1 Axes>"
      ]
     },
     "metadata": {
      "needs_background": "light"
     },
     "output_type": "display_data"
    }
   ],
   "source": [
    "d = df[df['file']=='PN13-2']\n",
    "\n",
    "sns.boxplot(data=d, x='label',y='var')"
   ]
  },
  {
   "cell_type": "code",
   "execution_count": 22,
   "metadata": {},
   "outputs": [
    {
     "data": {
      "text/plain": [
       "<AxesSubplot:xlabel='label', ylabel='var'>"
      ]
     },
     "execution_count": 22,
     "metadata": {},
     "output_type": "execute_result"
    },
    {
     "data": {
      "image/png": "[encoded data removed]",
      "text/plain": [
       "<Figure size 432x288 with 1 Axes>"
      ]
     },
     "metadata": {
      "needs_background": "light"
     },
     "output_type": "display_data"
    }
   ],
   "source": [
    "sns.boxplot(x=\"label\", y=\"var\", hue=\"label\", data=df, palette=\"Set3\")"
   ]
  },
  {
   "cell_type": "code",
   "execution_count": 18,
   "metadata": {},
   "outputs": [
    {
     "data": {
      "text/plain": [
       "<AxesSubplot:xlabel='label', ylabel='kur'>"
      ]
     },
     "execution_count": 18,
     "metadata": {},
     "output_type": "execute_result"
    },
    {
     "data": {
      "image/png": "[encoded data removed]",
      "text/plain": [
       "<Figure size 432x288 with 1 Axes>"
      ]
     },
     "metadata": {
      "needs_background": "light"
     },
     "output_type": "display_data"
    }
   ],
   "source": [
    "sns.boxplot(data=df, x='label',y='kur')"
   ]
  },
  {
   "cell_type": "code",
   "execution_count": 15,
   "metadata": {},
   "outputs": [
    {
     "data": {
      "text/plain": [
       "<AxesSubplot:xlabel='var', ylabel='kur'>"
      ]
     },
     "execution_count": 15,
     "metadata": {},
     "output_type": "execute_result"
    },
    {
     "data": {
      "image/png": "[encoded data removed]",
      "text/plain": [
       "<Figure size 432x288 with 1 Axes>"
      ]
     },
     "metadata": {
      "needs_background": "light"
     },
     "output_type": "display_data"
    }
   ],
   "source": [
    "sns.scatterplot(data=df,x='var',y='kur',hue='label')"
   ]
  },
  {
   "cell_type": "code",
   "execution_count": 54,
   "metadata": {},
   "outputs": [],
   "source": [
    "file = 'PN00-2.mat'\n",
    "\n",
    "path = f\"{ROOT_PATH}{PROCESSED_DATA}ecg_features/\"\n"
   ]
  },
  {
   "cell_type": "code",
   "execution_count": 56,
   "metadata": {},
   "outputs": [
    {
     "data": {
      "text/plain": [
       "{'__header__': b'MATLAB 5.0 MAT-file, Platform: PCWIN64, Created on: Wed Apr  6 02:41:21 2022',\n",
       " '__version__': '1.0',\n",
       " '__globals__': [],\n",
       " 'None': MatlabOpaque([(b'tt', b'MCOS', b'table', array([[3707764736],\n",
       "                      [         2],\n",
       "                      [         1],\n",
       "                      [         1],\n",
       "                      [         1],\n",
       "                      [         1]], dtype=uint32))           ],\n",
       "              dtype=[('s0', 'O'), ('s1', 'O'), ('s2', 'O'), ('arr', 'O')]),\n",
       " '__function_workspace__': array([[ 0,  1, 73, ...,  0,  0,  0]], dtype=uint8)}"
      ]
     },
     "execution_count": 56,
     "metadata": {},
     "output_type": "execute_result"
    }
   ],
   "source": [
    "loadmat(f\"{path}com_crise/{file}\")\n"
   ]
  },
  {
   "cell_type": "code",
   "execution_count": 41,
   "metadata": {},
   "outputs": [],
   "source": [
    "sem_crise = pd.read_parquet(f\"{path}sem_crise/{file}\")\n",
    "com_crise = pd.read_parquet(f\"{path}com_crise/{file}\")\n",
    "\n",
    "# Inserindo rótulos\n",
    "# Sem crise -> 1\n",
    "# Com crise -> 0\n",
    "sem_crise['label'] = np.repeat('sem_crise', len(sem_crise))\n",
    "com_crise['label'] = np.repeat('com_crise', len(com_crise))\n",
    "\n",
    "df = pd.concat([sem_crise, com_crise])\n"
   ]
  },
  {
   "cell_type": "code",
   "execution_count": 42,
   "metadata": {},
   "outputs": [],
   "source": [
    "# Tratamento de valores nulos\n",
    "for col in df.columns[:-1]:\n",
    "    df[col] = df[col].fillna(df[col].mean())\n"
   ]
  },
  {
   "cell_type": "code",
   "execution_count": null,
   "metadata": {},
   "outputs": [],
   "source": []
  },
  {
   "cell_type": "markdown",
   "metadata": {},
   "source": [
    "## Seleção de Características\n",
    "\n",
    "- Selecionando as 2 features como maior relevância"
   ]
  },
  {
   "cell_type": "code",
   "execution_count": 6,
   "metadata": {},
   "outputs": [
    {
     "data": {
      "text/plain": [
       "array(['kur_log_entropy', 'energy_log_entropy'], dtype=object)"
      ]
     },
     "execution_count": 6,
     "metadata": {},
     "output_type": "execute_result"
    }
   ],
   "source": [
    "from sklearn.feature_selection import SelectKBest, f_classif\n",
    "\n",
    "x = df.iloc[:, :-1]\n",
    "y = df.iloc[:, -1]\n",
    "\n",
    "sel = SelectKBest(f_classif, k=2)\n",
    "new = sel.fit_transform(x, y)\n",
    "cols_features = sel.get_feature_names_out()\n",
    "\n",
    "cols_features\n"
   ]
  },
  {
   "cell_type": "code",
   "execution_count": 43,
   "metadata": {},
   "outputs": [],
   "source": [
    "data = df\n"
   ]
  },
  {
   "cell_type": "code",
   "execution_count": null,
   "metadata": {},
   "outputs": [],
   "source": []
  },
  {
   "cell_type": "code",
   "execution_count": 7,
   "metadata": {},
   "outputs": [],
   "source": [
    "data = pd.DataFrame(data=new, columns=cols_features)\n",
    "data['label'] = y.to_list()\n"
   ]
  },
  {
   "cell_type": "markdown",
   "metadata": {},
   "source": [
    "## Boxplot de grupos"
   ]
  },
  {
   "cell_type": "code",
   "execution_count": 44,
   "metadata": {},
   "outputs": [
    {
     "data": {
      "image/png": "[encoded data removed]",
      "text/plain": [
       "<Figure size 504x504 with 5 Axes>"
      ]
     },
     "metadata": {
      "needs_background": "light"
     },
     "output_type": "display_data"
    }
   ],
   "source": [
    "fig, axs = plt.subplots(5, 1, figsize=(7, 7), constrained_layout=True)\n",
    "\n",
    "for col in range(len(data.columns[:-1])):\n",
    "    sns.boxplot(y=\"label\", x=data.columns[col], hue=\"label\",\n",
    "                data=data, ax=axs[col], showfliers=False)\n",
    "    axs[col].set_ylabel('')\n",
    "\n",
    "fig.suptitle(file.replace('.parquet', ''), fontsize=16)\n",
    "\n",
    "fig.savefig(\n",
    "    f\"{ROOT_PATH}reports/figures/ecg_features/{file.replace('parquet','')}jpg\")\n"
   ]
  },
  {
   "cell_type": "code",
   "execution_count": 274,
   "metadata": {},
   "outputs": [],
   "source": [
    "data.to_parquet(f\"{ROOT_PATH}{PROCESSED_DATA}ecg_features_select/{file}\")\n"
   ]
  }
 ],
 "metadata": {
  "interpreter": {
   "hash": "676d897f427d94a86f2cc2ce6d393a432491b28b1655c15eb47ad7d90dd20eb2"
  },
  "kernelspec": {
   "display_name": "Python 3.9.5 ('siena_eeg_ecg')",
   "language": "python",
   "name": "python3"
  },
  "language_info": {
   "codemirror_mode": {
    "name": "ipython",
    "version": 3
   },
   "file_extension": ".py",
   "mimetype": "text/x-python",
   "name": "python",
   "nbconvert_exporter": "python",
   "pygments_lexer": "ipython3",
   "version": "3.8.13"
  },
  "orig_nbformat": 4
 },
 "nbformat": 4,
 "nbformat_minor": 2
}
